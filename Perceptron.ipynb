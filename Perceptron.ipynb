{
  "nbformat": 4,
  "nbformat_minor": 0,
  "metadata": {
    "colab": {
      "name": "Perceptron.ipynb",
      "provenance": [],
      "authorship_tag": "ABX9TyNDAOSvH62qVHhl/tunUHng",
      "include_colab_link": true
    },
    "kernelspec": {
      "name": "python3",
      "display_name": "Python 3"
    }
  },
  "cells": [
    {
      "cell_type": "markdown",
      "metadata": {
        "id": "view-in-github",
        "colab_type": "text"
      },
      "source": [
        "<a href=\"https://colab.research.google.com/github/subinmun1997/Deep-Learning/blob/main/Perceptron.ipynb\" target=\"_parent\"><img src=\"https://colab.research.google.com/assets/colab-badge.svg\" alt=\"Open In Colab\"/></a>"
      ]
    },
    {
      "cell_type": "code",
      "metadata": {
        "id": "GxmS0nmu6nlj"
      },
      "source": [
        "def AND(x1, x2):\r\n",
        "  w1, w2, theta = 0.5, 0.5, 0.7\r\n",
        "  tmp = x1*w1 + x2*w2\r\n",
        "  if tmp <= theta:\r\n",
        "    return 0\r\n",
        "  else:\r\n",
        "    return 1"
      ],
      "execution_count": 1,
      "outputs": []
    },
    {
      "cell_type": "code",
      "metadata": {
        "colab": {
          "base_uri": "https://localhost:8080/"
        },
        "id": "vG7LOE0i_1Yy",
        "outputId": "e4afd61b-6a85-4afb-9366-3bb1e7cd683f"
      },
      "source": [
        "print(AND(0, 0))\r\n",
        "print(AND(1, 0))\r\n",
        "print(AND(0, 1))\r\n",
        "print(AND(1, 1))"
      ],
      "execution_count": 3,
      "outputs": [
        {
          "output_type": "stream",
          "text": [
            "0\n",
            "0\n",
            "0\n",
            "1\n"
          ],
          "name": "stdout"
        }
      ]
    },
    {
      "cell_type": "code",
      "metadata": {
        "colab": {
          "base_uri": "https://localhost:8080/"
        },
        "id": "eTttnY_2EtFw",
        "outputId": "1f23a471-1ee0-4214-e322-8faf1223fde8"
      },
      "source": [
        "import numpy as np\r\n",
        "x = np.array([0, 1])\r\n",
        "w = np.array([0.5, 0.5])\r\n",
        "b = -0.7\r\n",
        "x*w\r\n",
        "np.sum(x*w)\r\n",
        "np.sum(x*w) + b"
      ],
      "execution_count": 6,
      "outputs": [
        {
          "output_type": "execute_result",
          "data": {
            "text/plain": [
              "-0.19999999999999996"
            ]
          },
          "metadata": {
            "tags": []
          },
          "execution_count": 6
        }
      ]
    },
    {
      "cell_type": "code",
      "metadata": {
        "id": "GpQb6NjMGGpr"
      },
      "source": [
        "def AND(x1, x2):\r\n",
        "  x = np.array([x1, x2])\r\n",
        "  w = np.array([0.5, 0.5])\r\n",
        "  b = -0.7\r\n",
        "  tmp = np.sum(x*w) + b\r\n",
        "  if tmp <= 0:\r\n",
        "    return 0\r\n",
        "  else:\r\n",
        "    return 1"
      ],
      "execution_count": 8,
      "outputs": []
    },
    {
      "cell_type": "code",
      "metadata": {
        "colab": {
          "base_uri": "https://localhost:8080/"
        },
        "id": "wMWlaDgVGXgz",
        "outputId": "97a4f3bf-a6bd-4cd9-e6b6-91d2c21c5d5b"
      },
      "source": [
        "print(AND(0, 0))\r\n",
        "print(AND(0, 1))\r\n",
        "print(AND(1, 0))\r\n",
        "print(AND(1, 1))"
      ],
      "execution_count": 9,
      "outputs": [
        {
          "output_type": "stream",
          "text": [
            "0\n",
            "0\n",
            "0\n",
            "1\n"
          ],
          "name": "stdout"
        }
      ]
    },
    {
      "cell_type": "code",
      "metadata": {
        "id": "nRVXmcozIjHi"
      },
      "source": [
        "def NAND(x1, x2):\r\n",
        "  x = np.array([x1, x2])\r\n",
        "  w = np.array([-0.5, -0.5]) # AND와는 가중치(w, b)만 다르다\r\n",
        "  b = 0.7\r\n",
        "  tmp = np.sum(x*w) + b\r\n",
        "  if tmp <= 0:\r\n",
        "    return 0\r\n",
        "  else:\r\n",
        "    return 1"
      ],
      "execution_count": 14,
      "outputs": []
    },
    {
      "cell_type": "code",
      "metadata": {
        "colab": {
          "base_uri": "https://localhost:8080/"
        },
        "id": "L5ZpMS1RJHdI",
        "outputId": "09d94ddd-e0aa-44ba-d29d-c51e046293ba"
      },
      "source": [
        "print(NAND(0, 0))\r\n",
        "print(NAND(0, 1))\r\n",
        "print(NAND(1, 0))\r\n",
        "print(NAND(1, 1))"
      ],
      "execution_count": 15,
      "outputs": [
        {
          "output_type": "stream",
          "text": [
            "1\n",
            "1\n",
            "1\n",
            "0\n"
          ],
          "name": "stdout"
        }
      ]
    },
    {
      "cell_type": "code",
      "metadata": {
        "id": "YM8bru6gJbtc"
      },
      "source": [
        "def OR(x1, x2):\r\n",
        "  x = np.array([x1, x2])\r\n",
        "  w = np.array([0.5, 0.5]) # AND와는 가중치(w, b)만 다르다\r\n",
        "  b = -0.2\r\n",
        "  tmp = np.sum(x*w) + b\r\n",
        "  if tmp <= 0:\r\n",
        "    return 0\r\n",
        "  else:\r\n",
        "    return 1"
      ],
      "execution_count": 16,
      "outputs": []
    },
    {
      "cell_type": "code",
      "metadata": {
        "colab": {
          "base_uri": "https://localhost:8080/"
        },
        "id": "04tKy_6EJtso",
        "outputId": "cfd16114-3757-4dc8-ee8b-056bd3285cd1"
      },
      "source": [
        "print(OR(0 ,0))\r\n",
        "print(OR(0 ,1))\r\n",
        "print(OR(1 ,0))\r\n",
        "print(OR(1 ,1))"
      ],
      "execution_count": 17,
      "outputs": [
        {
          "output_type": "stream",
          "text": [
            "0\n",
            "1\n",
            "1\n",
            "1\n"
          ],
          "name": "stdout"
        }
      ]
    },
    {
      "cell_type": "code",
      "metadata": {
        "id": "Uf7XyFUYQ1tE"
      },
      "source": [
        "def XOR(x1, x2): # 같으면 0, 다르면 1 출력하는 함수\r\n",
        "  s1 = NAND(x1, x2)\r\n",
        "  s2 = OR(x1, x2)\r\n",
        "  y = AND(s1, s2)\r\n",
        "  return y"
      ],
      "execution_count": 19,
      "outputs": []
    },
    {
      "cell_type": "code",
      "metadata": {
        "colab": {
          "base_uri": "https://localhost:8080/"
        },
        "id": "HfQFzCf5RFbZ",
        "outputId": "4c56c6b9-c6b6-4bc5-ecc9-c05f26a73c6b"
      },
      "source": [
        "print(XOR(0, 0))\r\n",
        "print(XOR(0, 1))\r\n",
        "print(XOR(1, 0))\r\n",
        "print(XOR(1, 1))"
      ],
      "execution_count": 20,
      "outputs": [
        {
          "output_type": "stream",
          "text": [
            "0\n",
            "1\n",
            "1\n",
            "0\n"
          ],
          "name": "stdout"
        }
      ]
    }
  ]
}